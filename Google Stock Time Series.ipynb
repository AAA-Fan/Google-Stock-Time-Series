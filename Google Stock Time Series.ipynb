{
 "cells": [
  {
   "cell_type": "markdown",
   "metadata": {},
   "source": [
    "## Time Series Forcasting of Google Stock Price\n",
    "### Dataset downloaded on kaggle sites"
   ]
  },
  {
   "cell_type": "markdown",
   "metadata": {},
   "source": [
    "### Import important library to read dataset and visualize data"
   ]
  },
  {
   "cell_type": "code",
   "execution_count": 1,
   "metadata": {},
   "outputs": [],
   "source": [
    "import pandas as pd\n",
    "import matplotlib.pyplot as plt\n",
    "import seaborn as sns\n",
    "import numpy as np"
   ]
  },
  {
   "cell_type": "code",
   "execution_count": 2,
   "metadata": {},
   "outputs": [],
   "source": [
    "# import csv file of google stock price in my local drive\n",
    "df_train=pd.read_csv('Google_Stock_Price_Train.csv',header=0,parse_dates=[0])"
   ]
  },
  {
   "cell_type": "code",
   "execution_count": 3,
   "metadata": {},
   "outputs": [
    {
     "data": {
      "text/html": [
       "<div>\n",
       "<style scoped>\n",
       "    .dataframe tbody tr th:only-of-type {\n",
       "        vertical-align: middle;\n",
       "    }\n",
       "\n",
       "    .dataframe tbody tr th {\n",
       "        vertical-align: top;\n",
       "    }\n",
       "\n",
       "    .dataframe thead th {\n",
       "        text-align: right;\n",
       "    }\n",
       "</style>\n",
       "<table border=\"1\" class=\"dataframe\">\n",
       "  <thead>\n",
       "    <tr style=\"text-align: right;\">\n",
       "      <th></th>\n",
       "      <th>Date</th>\n",
       "      <th>Open</th>\n",
       "      <th>High</th>\n",
       "      <th>Low</th>\n",
       "      <th>Close</th>\n",
       "      <th>Volume</th>\n",
       "    </tr>\n",
       "  </thead>\n",
       "  <tbody>\n",
       "    <tr>\n",
       "      <th>0</th>\n",
       "      <td>2012-01-03</td>\n",
       "      <td>325.25</td>\n",
       "      <td>332.83</td>\n",
       "      <td>324.97</td>\n",
       "      <td>663.59</td>\n",
       "      <td>7,380,500</td>\n",
       "    </tr>\n",
       "    <tr>\n",
       "      <th>1</th>\n",
       "      <td>2012-01-04</td>\n",
       "      <td>331.27</td>\n",
       "      <td>333.87</td>\n",
       "      <td>329.08</td>\n",
       "      <td>666.45</td>\n",
       "      <td>5,749,400</td>\n",
       "    </tr>\n",
       "    <tr>\n",
       "      <th>2</th>\n",
       "      <td>2012-01-05</td>\n",
       "      <td>329.83</td>\n",
       "      <td>330.75</td>\n",
       "      <td>326.89</td>\n",
       "      <td>657.21</td>\n",
       "      <td>6,590,300</td>\n",
       "    </tr>\n",
       "    <tr>\n",
       "      <th>3</th>\n",
       "      <td>2012-01-06</td>\n",
       "      <td>328.34</td>\n",
       "      <td>328.77</td>\n",
       "      <td>323.68</td>\n",
       "      <td>648.24</td>\n",
       "      <td>5,405,900</td>\n",
       "    </tr>\n",
       "    <tr>\n",
       "      <th>4</th>\n",
       "      <td>2012-01-09</td>\n",
       "      <td>322.04</td>\n",
       "      <td>322.29</td>\n",
       "      <td>309.46</td>\n",
       "      <td>620.76</td>\n",
       "      <td>11,688,800</td>\n",
       "    </tr>\n",
       "  </tbody>\n",
       "</table>\n",
       "</div>"
      ],
      "text/plain": [
       "        Date    Open    High     Low   Close      Volume\n",
       "0 2012-01-03  325.25  332.83  324.97  663.59   7,380,500\n",
       "1 2012-01-04  331.27  333.87  329.08  666.45   5,749,400\n",
       "2 2012-01-05  329.83  330.75  326.89  657.21   6,590,300\n",
       "3 2012-01-06  328.34  328.77  323.68  648.24   5,405,900\n",
       "4 2012-01-09  322.04  322.29  309.46  620.76  11,688,800"
      ]
     },
     "execution_count": 3,
     "metadata": {},
     "output_type": "execute_result"
    }
   ],
   "source": [
    "df_train.head()"
   ]
  },
  {
   "cell_type": "markdown",
   "metadata": {},
   "source": [
    "### To check the datatypes of each columns using info"
   ]
  },
  {
   "cell_type": "code",
   "execution_count": 4,
   "metadata": {},
   "outputs": [
    {
     "name": "stdout",
     "output_type": "stream",
     "text": [
      "<class 'pandas.core.frame.DataFrame'>\n",
      "RangeIndex: 1258 entries, 0 to 1257\n",
      "Data columns (total 6 columns):\n",
      " #   Column  Non-Null Count  Dtype         \n",
      "---  ------  --------------  -----         \n",
      " 0   Date    1258 non-null   datetime64[ns]\n",
      " 1   Open    1258 non-null   float64       \n",
      " 2   High    1258 non-null   float64       \n",
      " 3   Low     1258 non-null   float64       \n",
      " 4   Close   1258 non-null   object        \n",
      " 5   Volume  1258 non-null   object        \n",
      "dtypes: datetime64[ns](1), float64(3), object(2)\n",
      "memory usage: 59.1+ KB\n"
     ]
    }
   ],
   "source": [
    "df_train.info()"
   ]
  },
  {
   "cell_type": "markdown",
   "metadata": {},
   "source": [
    "### Check Null value in dataset"
   ]
  },
  {
   "cell_type": "code",
   "execution_count": 5,
   "metadata": {},
   "outputs": [
    {
     "data": {
      "text/plain": [
       "Volume    0\n",
       "Close     0\n",
       "Low       0\n",
       "High      0\n",
       "Open      0\n",
       "Date      0\n",
       "dtype: int64"
      ]
     },
     "execution_count": 5,
     "metadata": {},
     "output_type": "execute_result"
    }
   ],
   "source": [
    "df_train.isnull().sum().sort_values(ascending=False)"
   ]
  },
  {
   "cell_type": "code",
   "execution_count": 6,
   "metadata": {},
   "outputs": [
    {
     "data": {
      "text/plain": [
       "dtype('<M8[ns]')"
      ]
     },
     "execution_count": 6,
     "metadata": {},
     "output_type": "execute_result"
    }
   ],
   "source": [
    "df_train.Date.dtypes"
   ]
  },
  {
   "cell_type": "markdown",
   "metadata": {},
   "source": [
    "## Data Visualization"
   ]
  },
  {
   "cell_type": "markdown",
   "metadata": {},
   "source": [
    "### Line plot"
   ]
  },
  {
   "cell_type": "code",
   "execution_count": 7,
   "metadata": {},
   "outputs": [],
   "source": [
    "df=df_train.copy()"
   ]
  },
  {
   "cell_type": "code",
   "execution_count": 8,
   "metadata": {},
   "outputs": [
    {
     "data": {
      "text/plain": [
       "<matplotlib.axes._subplots.AxesSubplot at 0x1d8be7562b0>"
      ]
     },
     "execution_count": 8,
     "metadata": {},
     "output_type": "execute_result"
    },
    {
     "data": {
      "image/png": "[encoded data removed]",
      "text/plain": [
       "<Figure size 432x288 with 1 Axes>"
      ]
     },
     "metadata": {
      "needs_background": "light"
     },
     "output_type": "display_data"
    }
   ],
   "source": [
    "df['Open'].plot()"
   ]
  },
  {
   "cell_type": "code",
   "execution_count": 9,
   "metadata": {},
   "outputs": [],
   "source": [
    "# now set index of date then plot \n",
    "df.index=df['Date']"
   ]
  },
  {
   "cell_type": "code",
   "execution_count": 10,
   "metadata": {},
   "outputs": [
    {
     "data": {
      "text/plain": [
       "<matplotlib.axes._subplots.AxesSubplot at 0x1d8beeaed60>"
      ]
     },
     "execution_count": 10,
     "metadata": {},
     "output_type": "execute_result"
    },
    {
     "data": {
      "image/png": "[encoded data removed]",
      "text/plain": [
       "<Figure size 432x288 with 1 Axes>"
      ]
     },
     "metadata": {
      "needs_background": "light"
     },
     "output_type": "display_data"
    }
   ],
   "source": [
    "df['Open'].plot()"
   ]
  },
  {
   "cell_type": "markdown",
   "metadata": {},
   "source": [
    "### Zooming IN method used for certain specific dates"
   ]
  },
  {
   "cell_type": "code",
   "execution_count": 11,
   "metadata": {},
   "outputs": [
    {
     "data": {
      "text/html": [
       "<div>\n",
       "<style scoped>\n",
       "    .dataframe tbody tr th:only-of-type {\n",
       "        vertical-align: middle;\n",
       "    }\n",
       "\n",
       "    .dataframe tbody tr th {\n",
       "        vertical-align: top;\n",
       "    }\n",
       "\n",
       "    .dataframe thead th {\n",
       "        text-align: right;\n",
       "    }\n",
       "</style>\n",
       "<table border=\"1\" class=\"dataframe\">\n",
       "  <thead>\n",
       "    <tr style=\"text-align: right;\">\n",
       "      <th></th>\n",
       "      <th>Date</th>\n",
       "      <th>Open</th>\n",
       "      <th>High</th>\n",
       "      <th>Low</th>\n",
       "      <th>Close</th>\n",
       "      <th>Volume</th>\n",
       "    </tr>\n",
       "    <tr>\n",
       "      <th>Date</th>\n",
       "      <th></th>\n",
       "      <th></th>\n",
       "      <th></th>\n",
       "      <th></th>\n",
       "      <th></th>\n",
       "      <th></th>\n",
       "    </tr>\n",
       "  </thead>\n",
       "  <tbody>\n",
       "    <tr>\n",
       "      <th>2012-01-03</th>\n",
       "      <td>2012-01-03</td>\n",
       "      <td>325.25</td>\n",
       "      <td>332.83</td>\n",
       "      <td>324.97</td>\n",
       "      <td>663.59</td>\n",
       "      <td>7,380,500</td>\n",
       "    </tr>\n",
       "    <tr>\n",
       "      <th>2012-01-04</th>\n",
       "      <td>2012-01-04</td>\n",
       "      <td>331.27</td>\n",
       "      <td>333.87</td>\n",
       "      <td>329.08</td>\n",
       "      <td>666.45</td>\n",
       "      <td>5,749,400</td>\n",
       "    </tr>\n",
       "    <tr>\n",
       "      <th>2012-01-05</th>\n",
       "      <td>2012-01-05</td>\n",
       "      <td>329.83</td>\n",
       "      <td>330.75</td>\n",
       "      <td>326.89</td>\n",
       "      <td>657.21</td>\n",
       "      <td>6,590,300</td>\n",
       "    </tr>\n",
       "    <tr>\n",
       "      <th>2012-01-06</th>\n",
       "      <td>2012-01-06</td>\n",
       "      <td>328.34</td>\n",
       "      <td>328.77</td>\n",
       "      <td>323.68</td>\n",
       "      <td>648.24</td>\n",
       "      <td>5,405,900</td>\n",
       "    </tr>\n",
       "    <tr>\n",
       "      <th>2012-01-09</th>\n",
       "      <td>2012-01-09</td>\n",
       "      <td>322.04</td>\n",
       "      <td>322.29</td>\n",
       "      <td>309.46</td>\n",
       "      <td>620.76</td>\n",
       "      <td>11,688,800</td>\n",
       "    </tr>\n",
       "  </tbody>\n",
       "</table>\n",
       "</div>"
      ],
      "text/plain": [
       "                 Date    Open    High     Low   Close      Volume\n",
       "Date                                                             \n",
       "2012-01-03 2012-01-03  325.25  332.83  324.97  663.59   7,380,500\n",
       "2012-01-04 2012-01-04  331.27  333.87  329.08  666.45   5,749,400\n",
       "2012-01-05 2012-01-05  329.83  330.75  326.89  657.21   6,590,300\n",
       "2012-01-06 2012-01-06  328.34  328.77  323.68  648.24   5,405,900\n",
       "2012-01-09 2012-01-09  322.04  322.29  309.46  620.76  11,688,800"
      ]
     },
     "execution_count": 11,
     "metadata": {},
     "output_type": "execute_result"
    }
   ],
   "source": [
    "#we get the data one year\n",
    "df1=df[(df.Date>='2012-01-03') & (df.Date<='2012-12-30')]\n",
    "df1.head()"
   ]
  },
  {
   "cell_type": "code",
   "execution_count": 12,
   "metadata": {},
   "outputs": [
    {
     "data": {
      "text/plain": [
       "<matplotlib.axes._subplots.AxesSubplot at 0x1d8bef1d460>"
      ]
     },
     "execution_count": 12,
     "metadata": {},
     "output_type": "execute_result"
    },
    {
     "data": {
      "image/png": "[encoded data removed]",
      "text/plain": [
       "<Figure size 432x288 with 1 Axes>"
      ]
     },
     "metadata": {
      "needs_background": "light"
     },
     "output_type": "display_data"
    }
   ],
   "source": [
    "df1.Open.plot()"
   ]
  },
  {
   "cell_type": "markdown",
   "metadata": {},
   "source": [
    "### Adding Trend Line"
   ]
  },
  {
   "cell_type": "markdown",
   "metadata": {},
   "source": [
    "### Trend Line to help to get realtionship is positive and negative \n",
    "#### If trend line slop is positive then data increases with increase X-axis"
   ]
  },
  {
   "cell_type": "code",
   "execution_count": 13,
   "metadata": {},
   "outputs": [
    {
     "data": {
      "text/plain": [
       "<matplotlib.axes._subplots.AxesSubplot at 0x1d8bef81130>"
      ]
     },
     "execution_count": 13,
     "metadata": {},
     "output_type": "execute_result"
    },
    {
     "data": {
      "image/png": "[encoded data removed]",
      "text/plain": [
       "<Figure size 432x288 with 1 Axes>"
      ]
     },
     "metadata": {
      "needs_background": "light"
     },
     "output_type": "display_data"
    }
   ],
   "source": [
    "sns.regplot(df_train.index,df.Open,order=2)"
   ]
  },
  {
   "cell_type": "markdown",
   "metadata": {},
   "source": [
    "### Remove Seasonability"
   ]
  },
  {
   "cell_type": "code",
   "execution_count": 14,
   "metadata": {},
   "outputs": [
    {
     "data": {
      "text/html": [
       "<div>\n",
       "<style scoped>\n",
       "    .dataframe tbody tr th:only-of-type {\n",
       "        vertical-align: middle;\n",
       "    }\n",
       "\n",
       "    .dataframe tbody tr th {\n",
       "        vertical-align: top;\n",
       "    }\n",
       "\n",
       "    .dataframe thead th {\n",
       "        text-align: right;\n",
       "    }\n",
       "</style>\n",
       "<table border=\"1\" class=\"dataframe\">\n",
       "  <thead>\n",
       "    <tr style=\"text-align: right;\">\n",
       "      <th></th>\n",
       "      <th>Date</th>\n",
       "      <th>Open</th>\n",
       "      <th>High</th>\n",
       "      <th>Low</th>\n",
       "      <th>Close</th>\n",
       "      <th>Volume</th>\n",
       "      <th>year</th>\n",
       "    </tr>\n",
       "    <tr>\n",
       "      <th>Date</th>\n",
       "      <th></th>\n",
       "      <th></th>\n",
       "      <th></th>\n",
       "      <th></th>\n",
       "      <th></th>\n",
       "      <th></th>\n",
       "      <th></th>\n",
       "    </tr>\n",
       "  </thead>\n",
       "  <tbody>\n",
       "    <tr>\n",
       "      <th>2012-01-03</th>\n",
       "      <td>2012-01-03</td>\n",
       "      <td>325.25</td>\n",
       "      <td>332.83</td>\n",
       "      <td>324.97</td>\n",
       "      <td>663.59</td>\n",
       "      <td>7,380,500</td>\n",
       "      <td>2012</td>\n",
       "    </tr>\n",
       "    <tr>\n",
       "      <th>2012-01-04</th>\n",
       "      <td>2012-01-04</td>\n",
       "      <td>331.27</td>\n",
       "      <td>333.87</td>\n",
       "      <td>329.08</td>\n",
       "      <td>666.45</td>\n",
       "      <td>5,749,400</td>\n",
       "      <td>2012</td>\n",
       "    </tr>\n",
       "    <tr>\n",
       "      <th>2012-01-05</th>\n",
       "      <td>2012-01-05</td>\n",
       "      <td>329.83</td>\n",
       "      <td>330.75</td>\n",
       "      <td>326.89</td>\n",
       "      <td>657.21</td>\n",
       "      <td>6,590,300</td>\n",
       "      <td>2012</td>\n",
       "    </tr>\n",
       "    <tr>\n",
       "      <th>2012-01-06</th>\n",
       "      <td>2012-01-06</td>\n",
       "      <td>328.34</td>\n",
       "      <td>328.77</td>\n",
       "      <td>323.68</td>\n",
       "      <td>648.24</td>\n",
       "      <td>5,405,900</td>\n",
       "      <td>2012</td>\n",
       "    </tr>\n",
       "    <tr>\n",
       "      <th>2012-01-09</th>\n",
       "      <td>2012-01-09</td>\n",
       "      <td>322.04</td>\n",
       "      <td>322.29</td>\n",
       "      <td>309.46</td>\n",
       "      <td>620.76</td>\n",
       "      <td>11,688,800</td>\n",
       "      <td>2012</td>\n",
       "    </tr>\n",
       "  </tbody>\n",
       "</table>\n",
       "</div>"
      ],
      "text/plain": [
       "                 Date    Open    High     Low   Close      Volume  year\n",
       "Date                                                                   \n",
       "2012-01-03 2012-01-03  325.25  332.83  324.97  663.59   7,380,500  2012\n",
       "2012-01-04 2012-01-04  331.27  333.87  329.08  666.45   5,749,400  2012\n",
       "2012-01-05 2012-01-05  329.83  330.75  326.89  657.21   6,590,300  2012\n",
       "2012-01-06 2012-01-06  328.34  328.77  323.68  648.24   5,405,900  2012\n",
       "2012-01-09 2012-01-09  322.04  322.29  309.46  620.76  11,688,800  2012"
      ]
     },
     "execution_count": 14,
     "metadata": {},
     "output_type": "execute_result"
    }
   ],
   "source": [
    "df['year']=df['Date'].dt.year\n",
    "df.head()"
   ]
  },
  {
   "cell_type": "code",
   "execution_count": 15,
   "metadata": {},
   "outputs": [
    {
     "data": {
      "text/plain": [
       "year\n",
       "2012    320.195040\n",
       "2013    440.160119\n",
       "2014    560.709643\n",
       "2015    602.057341\n",
       "2016    743.732460\n",
       "Name: Open, dtype: float64"
      ]
     },
     "execution_count": 15,
     "metadata": {},
     "output_type": "execute_result"
    }
   ],
   "source": [
    "df.groupby('year')['Open'].mean()"
   ]
  },
  {
   "cell_type": "code",
   "execution_count": 16,
   "metadata": {},
   "outputs": [
    {
     "data": {
      "text/plain": [
       "<matplotlib.axes._subplots.AxesSubplot at 0x1d8bef37490>"
      ]
     },
     "execution_count": 16,
     "metadata": {},
     "output_type": "execute_result"
    },
    {
     "data": {
      "image/png": "[encoded data removed]",
      "text/plain": [
       "<Figure size 432x288 with 1 Axes>"
      ]
     },
     "metadata": {
      "needs_background": "light"
     },
     "output_type": "display_data"
    }
   ],
   "source": [
    "df.groupby('year')['Open'].mean().plot()"
   ]
  },
  {
   "cell_type": "markdown",
   "metadata": {},
   "source": [
    "### Creating Lag plot"
   ]
  },
  {
   "cell_type": "code",
   "execution_count": 17,
   "metadata": {},
   "outputs": [
    {
     "data": {
      "text/plain": [
       "<matplotlib.axes._subplots.AxesSubplot at 0x1d8bf06f8b0>"
      ]
     },
     "execution_count": 17,
     "metadata": {},
     "output_type": "execute_result"
    },
    {
     "data": {
      "image/png": "[encoded data removed]",
      "text/plain": [
       "<Figure size 432x288 with 1 Axes>"
      ]
     },
     "metadata": {
      "needs_background": "light"
     },
     "output_type": "display_data"
    }
   ],
   "source": [
    "from pandas.plotting import lag_plot\n",
    "lag_plot(df.Open,lag=2)"
   ]
  },
  {
   "cell_type": "code",
   "execution_count": 18,
   "metadata": {},
   "outputs": [
    {
     "data": {
      "text/plain": [
       "<matplotlib.axes._subplots.AxesSubplot at 0x1d8bf0c2610>"
      ]
     },
     "execution_count": 18,
     "metadata": {},
     "output_type": "execute_result"
    },
    {
     "data": {
      "image/png": "[encoded data removed]",
      "text/plain": [
       "<Figure size 432x288 with 1 Axes>"
      ]
     },
     "metadata": {
      "needs_background": "light"
     },
     "output_type": "display_data"
    }
   ],
   "source": [
    "from pandas.plotting import autocorrelation_plot as ap\n",
    "ap(df.Open)"
   ]
  },
  {
   "cell_type": "code",
   "execution_count": 19,
   "metadata": {},
   "outputs": [
    {
     "data": {
      "text/plain": [
       "array([<matplotlib.axes._subplots.AxesSubplot object at 0x000001D8BF12F640>,\n",
       "       <matplotlib.axes._subplots.AxesSubplot object at 0x000001D8BF15D520>,\n",
       "       <matplotlib.axes._subplots.AxesSubplot object at 0x000001D8BF17F760>],\n",
       "      dtype=object)"
      ]
     },
     "execution_count": 19,
     "metadata": {},
     "output_type": "execute_result"
    },
    {
     "data": {
      "image/png": "[encoded data removed]",
      "text/plain": [
       "<Figure size 432x288 with 3 Axes>"
      ]
     },
     "metadata": {
      "needs_background": "light"
     },
     "output_type": "display_data"
    }
   ],
   "source": [
    "df_train.set_index('Date')[['Open','High','Low']].plot(subplots=True)"
   ]
  },
  {
   "cell_type": "markdown",
   "metadata": {},
   "source": [
    "### Now Preprocessing the data Decide Input Feature and output "
   ]
  },
  {
   "cell_type": "code",
   "execution_count": 53,
   "metadata": {},
   "outputs": [
    {
     "data": {
      "text/html": [
       "<div>\n",
       "<style scoped>\n",
       "    .dataframe tbody tr th:only-of-type {\n",
       "        vertical-align: middle;\n",
       "    }\n",
       "\n",
       "    .dataframe tbody tr th {\n",
       "        vertical-align: top;\n",
       "    }\n",
       "\n",
       "    .dataframe thead th {\n",
       "        text-align: right;\n",
       "    }\n",
       "</style>\n",
       "<table border=\"1\" class=\"dataframe\">\n",
       "  <thead>\n",
       "    <tr style=\"text-align: right;\">\n",
       "      <th></th>\n",
       "      <th>Open</th>\n",
       "      <th>High</th>\n",
       "      <th>Low</th>\n",
       "    </tr>\n",
       "  </thead>\n",
       "  <tbody>\n",
       "    <tr>\n",
       "      <th>0</th>\n",
       "      <td>325.25</td>\n",
       "      <td>332.83</td>\n",
       "      <td>324.97</td>\n",
       "    </tr>\n",
       "    <tr>\n",
       "      <th>1</th>\n",
       "      <td>331.27</td>\n",
       "      <td>333.87</td>\n",
       "      <td>329.08</td>\n",
       "    </tr>\n",
       "    <tr>\n",
       "      <th>2</th>\n",
       "      <td>329.83</td>\n",
       "      <td>330.75</td>\n",
       "      <td>326.89</td>\n",
       "    </tr>\n",
       "    <tr>\n",
       "      <th>3</th>\n",
       "      <td>328.34</td>\n",
       "      <td>328.77</td>\n",
       "      <td>323.68</td>\n",
       "    </tr>\n",
       "    <tr>\n",
       "      <th>4</th>\n",
       "      <td>322.04</td>\n",
       "      <td>322.29</td>\n",
       "      <td>309.46</td>\n",
       "    </tr>\n",
       "    <tr>\n",
       "      <th>...</th>\n",
       "      <td>...</td>\n",
       "      <td>...</td>\n",
       "      <td>...</td>\n",
       "    </tr>\n",
       "    <tr>\n",
       "      <th>1253</th>\n",
       "      <td>790.90</td>\n",
       "      <td>792.74</td>\n",
       "      <td>787.28</td>\n",
       "    </tr>\n",
       "    <tr>\n",
       "      <th>1254</th>\n",
       "      <td>790.68</td>\n",
       "      <td>797.86</td>\n",
       "      <td>787.66</td>\n",
       "    </tr>\n",
       "    <tr>\n",
       "      <th>1255</th>\n",
       "      <td>793.70</td>\n",
       "      <td>794.23</td>\n",
       "      <td>783.20</td>\n",
       "    </tr>\n",
       "    <tr>\n",
       "      <th>1256</th>\n",
       "      <td>783.33</td>\n",
       "      <td>785.93</td>\n",
       "      <td>778.92</td>\n",
       "    </tr>\n",
       "    <tr>\n",
       "      <th>1257</th>\n",
       "      <td>782.75</td>\n",
       "      <td>782.78</td>\n",
       "      <td>770.41</td>\n",
       "    </tr>\n",
       "  </tbody>\n",
       "</table>\n",
       "<p>1258 rows × 3 columns</p>\n",
       "</div>"
      ],
      "text/plain": [
       "        Open    High     Low\n",
       "0     325.25  332.83  324.97\n",
       "1     331.27  333.87  329.08\n",
       "2     329.83  330.75  326.89\n",
       "3     328.34  328.77  323.68\n",
       "4     322.04  322.29  309.46\n",
       "...      ...     ...     ...\n",
       "1253  790.90  792.74  787.28\n",
       "1254  790.68  797.86  787.66\n",
       "1255  793.70  794.23  783.20\n",
       "1256  783.33  785.93  778.92\n",
       "1257  782.75  782.78  770.41\n",
       "\n",
       "[1258 rows x 3 columns]"
      ]
     },
     "execution_count": 53,
     "metadata": {},
     "output_type": "execute_result"
    }
   ],
   "source": [
    "# Take input features\n",
    "X=df_train[['Open','High','Low']]\n",
    "X\n",
    "## only take only 3 columns"
   ]
  },
  {
   "cell_type": "code",
   "execution_count": 54,
   "metadata": {},
   "outputs": [
    {
     "data": {
      "text/html": [
       "<div>\n",
       "<style scoped>\n",
       "    .dataframe tbody tr th:only-of-type {\n",
       "        vertical-align: middle;\n",
       "    }\n",
       "\n",
       "    .dataframe tbody tr th {\n",
       "        vertical-align: top;\n",
       "    }\n",
       "\n",
       "    .dataframe thead th {\n",
       "        text-align: right;\n",
       "    }\n",
       "</style>\n",
       "<table border=\"1\" class=\"dataframe\">\n",
       "  <thead>\n",
       "    <tr style=\"text-align: right;\">\n",
       "      <th></th>\n",
       "      <th>Open</th>\n",
       "      <th>High</th>\n",
       "      <th>Low</th>\n",
       "    </tr>\n",
       "  </thead>\n",
       "  <tbody>\n",
       "    <tr>\n",
       "      <th>count</th>\n",
       "      <td>1258.000000</td>\n",
       "      <td>1258.000000</td>\n",
       "      <td>1258.000000</td>\n",
       "    </tr>\n",
       "    <tr>\n",
       "      <th>mean</th>\n",
       "      <td>533.709833</td>\n",
       "      <td>537.880223</td>\n",
       "      <td>529.007409</td>\n",
       "    </tr>\n",
       "    <tr>\n",
       "      <th>std</th>\n",
       "      <td>151.904442</td>\n",
       "      <td>153.008811</td>\n",
       "      <td>150.552807</td>\n",
       "    </tr>\n",
       "    <tr>\n",
       "      <th>min</th>\n",
       "      <td>279.120000</td>\n",
       "      <td>281.210000</td>\n",
       "      <td>277.220000</td>\n",
       "    </tr>\n",
       "    <tr>\n",
       "      <th>25%</th>\n",
       "      <td>404.115000</td>\n",
       "      <td>406.765000</td>\n",
       "      <td>401.765000</td>\n",
       "    </tr>\n",
       "    <tr>\n",
       "      <th>50%</th>\n",
       "      <td>537.470000</td>\n",
       "      <td>540.750000</td>\n",
       "      <td>532.990000</td>\n",
       "    </tr>\n",
       "    <tr>\n",
       "      <th>75%</th>\n",
       "      <td>654.922500</td>\n",
       "      <td>662.587500</td>\n",
       "      <td>644.800000</td>\n",
       "    </tr>\n",
       "    <tr>\n",
       "      <th>max</th>\n",
       "      <td>816.680000</td>\n",
       "      <td>816.680000</td>\n",
       "      <td>805.140000</td>\n",
       "    </tr>\n",
       "  </tbody>\n",
       "</table>\n",
       "</div>"
      ],
      "text/plain": [
       "              Open         High          Low\n",
       "count  1258.000000  1258.000000  1258.000000\n",
       "mean    533.709833   537.880223   529.007409\n",
       "std     151.904442   153.008811   150.552807\n",
       "min     279.120000   281.210000   277.220000\n",
       "25%     404.115000   406.765000   401.765000\n",
       "50%     537.470000   540.750000   532.990000\n",
       "75%     654.922500   662.587500   644.800000\n",
       "max     816.680000   816.680000   805.140000"
      ]
     },
     "execution_count": 54,
     "metadata": {},
     "output_type": "execute_result"
    }
   ],
   "source": [
    "X.describe()"
   ]
  },
  {
   "cell_type": "markdown",
   "metadata": {},
   "source": [
    "## Min Max Scaler use for to normalize the data "
   ]
  },
  {
   "cell_type": "code",
   "execution_count": 55,
   "metadata": {},
   "outputs": [],
   "source": [
    "## Feature Scaling tha Data\n",
    "from sklearn.preprocessing import MinMaxScaler\n",
    "sc=MinMaxScaler()\n",
    "X_scaled=sc.fit_transform(X)"
   ]
  },
  {
   "cell_type": "code",
   "execution_count": 56,
   "metadata": {},
   "outputs": [
    {
     "data": {
      "text/plain": [
       "array([[0.08581368, 0.09640129, 0.09044931],\n",
       "       [0.09701243, 0.09834351, 0.09823458],\n",
       "       [0.09433366, 0.09251685, 0.09408623],\n",
       "       ...,\n",
       "       [0.95725128, 0.95807422, 0.95844067],\n",
       "       [0.93796041, 0.94257381, 0.95033338],\n",
       "       [0.93688146, 0.93669113, 0.93421352]])"
      ]
     },
     "execution_count": 56,
     "metadata": {},
     "output_type": "execute_result"
    }
   ],
   "source": [
    "X_scaled"
   ]
  },
  {
   "cell_type": "markdown",
   "metadata": {},
   "source": [
    "### Take Output of dataset is Open Column"
   ]
  },
  {
   "cell_type": "code",
   "execution_count": 57,
   "metadata": {},
   "outputs": [
    {
     "data": {
      "text/plain": [
       "array([0.08581368, 0.09701243, 0.09433366, ..., 0.95725128, 0.93796041,\n",
       "       0.93688146])"
      ]
     },
     "execution_count": 57,
     "metadata": {},
     "output_type": "execute_result"
    }
   ],
   "source": [
    "#Take Output \n",
    "Y=X_scaled[:,0]\n",
    "Y"
   ]
  },
  {
   "cell_type": "markdown",
   "metadata": {},
   "source": [
    "### Now Split the Data into training and testing"
   ]
  },
  {
   "cell_type": "markdown",
   "metadata": {},
   "source": [
    "### For split the data,  import train test split library form sklearn "
   ]
  },
  {
   "cell_type": "code",
   "execution_count": 81,
   "metadata": {},
   "outputs": [],
   "source": [
    "from sklearn.model_selection import train_test_split\n",
    "# Divided the training and test dataser into 80:20 ratio\n",
    "x_train,x_test,y_train,y_test=train_test_split(X_scaled,Y,test_size=0.20,shuffle=False,random_state=123)"
   ]
  },
  {
   "cell_type": "markdown",
   "metadata": {},
   "source": [
    "### Check the shape training and test dataset"
   ]
  },
  {
   "cell_type": "code",
   "execution_count": 60,
   "metadata": {},
   "outputs": [
    {
     "data": {
      "text/plain": [
       "(1006, 3)"
      ]
     },
     "execution_count": 60,
     "metadata": {},
     "output_type": "execute_result"
    }
   ],
   "source": [
    "x_train.shape"
   ]
  },
  {
   "cell_type": "code",
   "execution_count": 82,
   "metadata": {},
   "outputs": [
    {
     "data": {
      "text/plain": [
       "(252, 3)"
      ]
     },
     "execution_count": 82,
     "metadata": {},
     "output_type": "execute_result"
    }
   ],
   "source": [
    "x_test.shape"
   ]
  },
  {
   "cell_type": "markdown",
   "metadata": {},
   "source": [
    "## Now import Timerseries Generator library to prepare the data for time series"
   ]
  },
  {
   "cell_type": "code",
   "execution_count": 62,
   "metadata": {},
   "outputs": [],
   "source": [
    "## Preparation of Time Series Model\n",
    "from keras.preprocessing.sequence import TimeseriesGenerator\n",
    "import tensorflow as tf"
   ]
  },
  {
   "cell_type": "code",
   "execution_count": 90,
   "metadata": {},
   "outputs": [],
   "source": [
    "\n",
    "train_generator=TimeseriesGenerator(x_train,y_train,length=10,batch_size=32)\n",
    "test_generator=TimeseriesGenerator(x_test,y_test,length=10,batch_size=32)"
   ]
  },
  {
   "cell_type": "code",
   "execution_count": 91,
   "metadata": {},
   "outputs": [],
   "source": [
    "num_features=3\n",
    "max_length=10"
   ]
  },
  {
   "cell_type": "markdown",
   "metadata": {},
   "source": [
    "### Define LSTM Model"
   ]
  },
  {
   "cell_type": "code",
   "execution_count": 92,
   "metadata": {},
   "outputs": [],
   "source": [
    "def LSTM_Model(max_length,num_feature):\n",
    "    from keras.layers import LSTM,Dropout,Dense,LeakyReLU\n",
    "    from keras import Sequential\n",
    "    model=Sequential()\n",
    "    model.add(LSTM(128,input_shape=(max_length,num_features),return_sequences=True))\n",
    "    model.add(LeakyReLU(alpha=0.5))\n",
    "    model.add(Dropout(0.3))\n",
    "    model.add(LSTM(128,return_sequences=True))\n",
    "    model.add(LeakyReLU(alpha=0.5))\n",
    "    model.add(Dropout(0.3))\n",
    "    model.add(LSTM(64,return_sequences=True))\n",
    "    model.add(Dropout(0.3))\n",
    "    model.add(LSTM(64))\n",
    "    model.add(Dropout(0.3))\n",
    "    model.add(Dense(1))\n",
    "    model.compile(optimizer='Adam',loss='mean_squared_error',metrics=['mean_squared_error'])\n",
    "    return model"
   ]
  },
  {
   "cell_type": "code",
   "execution_count": 87,
   "metadata": {},
   "outputs": [],
   "source": [
    "# Call the LSTM function\n",
    "model=LSTM_Model(10,3)"
   ]
  },
  {
   "cell_type": "markdown",
   "metadata": {},
   "source": [
    "### Import Earlystopping from keras library to avoid the overfitting"
   ]
  },
  {
   "cell_type": "code",
   "execution_count": 97,
   "metadata": {},
   "outputs": [],
   "source": [
    "from keras.callbacks import EarlyStopping\n",
    "early_stopping=EarlyStopping(patience=5)"
   ]
  },
  {
   "cell_type": "markdown",
   "metadata": {},
   "source": [
    "### Now fit the model  with 50 epochs"
   ]
  },
  {
   "cell_type": "code",
   "execution_count": 98,
   "metadata": {},
   "outputs": [
    {
     "name": "stdout",
     "output_type": "stream",
     "text": [
      "Epoch 1/50\n",
      "32/32 [==============================] - 2s 63ms/step - loss: 0.0188 - mean_squared_error: 0.0188 - val_loss: 0.0130 - val_mean_squared_error: 0.0130\n",
      "Epoch 2/50\n",
      "32/32 [==============================] - 2s 59ms/step - loss: 0.0274 - mean_squared_error: 0.0274 - val_loss: 0.0482 - val_mean_squared_error: 0.0482\n",
      "Epoch 3/50\n",
      "32/32 [==============================] - 2s 59ms/step - loss: 0.0152 - mean_squared_error: 0.0152 - val_loss: 0.0309 - val_mean_squared_error: 0.0309\n",
      "Epoch 4/50\n",
      "32/32 [==============================] - 2s 55ms/step - loss: 0.0079 - mean_squared_error: 0.0079 - val_loss: 0.0216 - val_mean_squared_error: 0.0216\n",
      "Epoch 5/50\n",
      "32/32 [==============================] - 2s 61ms/step - loss: 0.0087 - mean_squared_error: 0.0087 - val_loss: 0.0093 - val_mean_squared_error: 0.0093\n",
      "Epoch 6/50\n",
      "32/32 [==============================] - 2s 66ms/step - loss: 0.0061 - mean_squared_error: 0.0061 - val_loss: 0.0068 - val_mean_squared_error: 0.0068\n",
      "Epoch 7/50\n",
      "32/32 [==============================] - 2s 70ms/step - loss: 0.0071 - mean_squared_error: 0.0071 - val_loss: 0.0044 - val_mean_squared_error: 0.0044\n",
      "Epoch 8/50\n",
      "32/32 [==============================] - 2s 58ms/step - loss: 0.0053 - mean_squared_error: 0.0053 - val_loss: 0.0037 - val_mean_squared_error: 0.0037\n",
      "Epoch 9/50\n",
      "32/32 [==============================] - 2s 56ms/step - loss: 0.0057 - mean_squared_error: 0.0057 - val_loss: 0.0025 - val_mean_squared_error: 0.0025\n",
      "Epoch 10/50\n",
      "32/32 [==============================] - 2s 57ms/step - loss: 0.0037 - mean_squared_error: 0.0037 - val_loss: 0.0021 - val_mean_squared_error: 0.0021\n",
      "Epoch 11/50\n",
      "32/32 [==============================] - 2s 58ms/step - loss: 0.0039 - mean_squared_error: 0.0039 - val_loss: 0.0017 - val_mean_squared_error: 0.0017\n",
      "Epoch 12/50\n",
      "32/32 [==============================] - 2s 62ms/step - loss: 0.0040 - mean_squared_error: 0.0040 - val_loss: 0.0014 - val_mean_squared_error: 0.0014\n",
      "Epoch 13/50\n",
      "32/32 [==============================] - 2s 58ms/step - loss: 0.0059 - mean_squared_error: 0.0059 - val_loss: 0.0018 - val_mean_squared_error: 0.0018\n",
      "Epoch 14/50\n",
      "32/32 [==============================] - 2s 61ms/step - loss: 0.0034 - mean_squared_error: 0.0034 - val_loss: 0.0016 - val_mean_squared_error: 0.0016\n",
      "Epoch 15/50\n",
      "32/32 [==============================] - 2s 58ms/step - loss: 0.0033 - mean_squared_error: 0.0033 - val_loss: 0.0013 - val_mean_squared_error: 0.0013\n",
      "Epoch 16/50\n",
      "32/32 [==============================] - 2s 58ms/step - loss: 0.0029 - mean_squared_error: 0.0029 - val_loss: 0.0013 - val_mean_squared_error: 0.0013\n",
      "Epoch 17/50\n",
      "32/32 [==============================] - 2s 57ms/step - loss: 0.0029 - mean_squared_error: 0.0029 - val_loss: 0.0013 - val_mean_squared_error: 0.0013\n",
      "Epoch 18/50\n",
      "32/32 [==============================] - 2s 56ms/step - loss: 0.0034 - mean_squared_error: 0.0034 - val_loss: 0.0015 - val_mean_squared_error: 0.0015\n",
      "Epoch 19/50\n",
      "32/32 [==============================] - 2s 62ms/step - loss: 0.0032 - mean_squared_error: 0.0032 - val_loss: 0.0023 - val_mean_squared_error: 0.0023\n",
      "Epoch 20/50\n",
      "32/32 [==============================] - 2s 58ms/step - loss: 0.0032 - mean_squared_error: 0.0032 - val_loss: 0.0019 - val_mean_squared_error: 0.0019\n",
      "Epoch 21/50\n",
      "32/32 [==============================] - 2s 60ms/step - loss: 0.0024 - mean_squared_error: 0.0024 - val_loss: 0.0015 - val_mean_squared_error: 0.0015\n",
      "Epoch 22/50\n",
      "32/32 [==============================] - 2s 57ms/step - loss: 0.0030 - mean_squared_error: 0.0030 - val_loss: 0.0015 - val_mean_squared_error: 0.0015\n"
     ]
    }
   ],
   "source": [
    "model_hist=model.fit(train_generator,validation_data=test_generator,shuffle=False,callbacks=[early_stopping],epochs=50)"
   ]
  },
  {
   "cell_type": "code",
   "execution_count": 99,
   "metadata": {},
   "outputs": [
    {
     "data": {
      "image/png": "[encoded data removed]",
      "text/plain": [
       "<Figure size 432x288 with 1 Axes>"
      ]
     },
     "metadata": {
      "needs_background": "light"
     },
     "output_type": "display_data"
    }
   ],
   "source": [
    "# Visualize loss and error\n",
    "pd.DataFrame(model_hist.history).plot()\n",
    "plt.gca().set_ylim(0,0.1)\n",
    "plt.show()"
   ]
  },
  {
   "cell_type": "code",
   "execution_count": 100,
   "metadata": {},
   "outputs": [
    {
     "data": {
      "text/plain": [
       "[0.0015122081385925412, 0.0015122081385925412]"
      ]
     },
     "execution_count": 100,
     "metadata": {},
     "output_type": "execute_result"
    }
   ],
   "source": [
    "# Evaluate the test dataset\n",
    "model.evaluate(test_generator,verbose=0)"
   ]
  },
  {
   "cell_type": "markdown",
   "metadata": {},
   "source": [
    "### Predict the values of next 10 "
   ]
  },
  {
   "cell_type": "code",
   "execution_count": 105,
   "metadata": {},
   "outputs": [
    {
     "data": {
      "text/plain": [
       "(242, 1)"
      ]
     },
     "execution_count": 105,
     "metadata": {},
     "output_type": "execute_result"
    }
   ],
   "source": [
    "test_pred=model.predict_generator(test_generator)\n",
    "test_pred.shape"
   ]
  },
  {
   "cell_type": "markdown",
   "metadata": {},
   "source": [
    "### Merge the Predicted value with input feature for inverse the scaling"
   ]
  },
  {
   "cell_type": "code",
   "execution_count": 106,
   "metadata": {},
   "outputs": [],
   "source": [
    "# Concat method use for merge the into data frame\n",
    "df=pd.concat([pd.DataFrame(test_pred),pd.DataFrame(x_test[:,1:][10:])],axis=1)"
   ]
  },
  {
   "cell_type": "code",
   "execution_count": 107,
   "metadata": {},
   "outputs": [
    {
     "data": {
      "text/plain": [
       "(242, 3)"
      ]
     },
     "execution_count": 107,
     "metadata": {},
     "output_type": "execute_result"
    }
   ],
   "source": [
    "df.shape"
   ]
  },
  {
   "cell_type": "markdown",
   "metadata": {},
   "source": [
    "### Now inverse the scaling data into normal form"
   ]
  },
  {
   "cell_type": "code",
   "execution_count": 108,
   "metadata": {},
   "outputs": [
    {
     "data": {
      "text/plain": [
       "array([[738.94044313, 709.98      , 693.41      ],\n",
       "       [734.63944176, 706.85      , 673.26      ],\n",
       "       [729.3262629 , 719.19      , 694.46      ],\n",
       "       [724.69389275, 728.13      , 720.12      ],\n",
       "       [721.0399288 , 729.68      , 710.01      ],\n",
       "       [718.63165768, 718.28      , 706.48      ],\n",
       "       [718.13957089, 718.23      , 694.39      ],\n",
       "       [717.58192806, 733.69      , 712.35      ],\n",
       "       [718.01627684, 744.99      , 726.8       ],\n",
       "       [720.47783226, 757.86      , 743.27      ],\n",
       "       [724.53958294, 789.87      , 764.65      ],\n",
       "       [729.39406181, 774.5       , 720.5       ],\n",
       "       [736.30262977, 727.        , 701.86      ],\n",
       "       [741.97313068, 703.99      , 680.15      ],\n",
       "       [745.24048704, 684.03      , 663.06      ],\n",
       "       [746.56698745, 699.9       , 668.77      ],\n",
       "       [745.65183033, 701.31      , 682.13      ],\n",
       "       [742.23240704, 689.35      , 668.87      ],\n",
       "       [735.30990121, 693.75      , 678.6       ],\n",
       "       [726.06473801, 698.        , 685.05      ],\n",
       "       [715.45731656, 709.75      , 691.38      ],\n",
       "       [704.20625403, 712.35      , 696.03      ],\n",
       "       [697.88951673, 703.08      , 694.05      ],\n",
       "       [696.69441675, 713.24      , 702.51      ],\n",
       "       [698.38839623, 708.4       , 693.58      ],\n",
       "       [702.26792933, 700.        , 680.78      ],\n",
       "       [705.09949506, 705.98      , 690.59      ],\n",
       "       [706.83483957, 713.43      , 700.86      ],\n",
       "       [709.21888763, 710.89      , 697.68      ],\n",
       "       [710.53305223, 718.81      , 699.77      ],\n",
       "       [711.44439647, 720.        , 712.        ],\n",
       "       [712.07688725, 719.45      , 706.02      ],\n",
       "       [712.81991973, 716.49      , 706.02      ],\n",
       "       [714.68336444, 708.09      , 686.9       ],\n",
       "       [715.82921729, 703.79      , 685.34      ],\n",
       "       [717.12678462, 705.68      , 694.        ],\n",
       "       [718.50166705, 716.44      , 703.36      ],\n",
       "       [718.54623618, 726.92      , 717.13      ],\n",
       "       [717.9471322 , 735.5       , 725.15      ],\n",
       "       [718.32425563, 732.29      , 724.77      ],\n",
       "       [719.23002472, 737.47      , 724.51      ],\n",
       "       [720.48042759, 743.07      , 736.        ],\n",
       "       [723.0778692 , 742.        , 731.83      ],\n",
       "       [726.75477455, 742.5       , 733.52      ],\n",
       "       [731.74395409, 745.        , 737.46      ],\n",
       "       [737.16267625, 745.72      , 736.15      ],\n",
       "       [741.68828554, 737.75      , 731.        ],\n",
       "       [744.97355286, 738.99      , 732.5       ],\n",
       "       [746.91931109, 747.25      , 728.76      ],\n",
       "       [747.99191805, 757.88      , 748.74      ],\n",
       "       [749.15257387, 750.85      , 740.94      ],\n",
       "       [750.29682466, 750.34      , 737.        ],\n",
       "       [750.91669126, 752.8       , 742.43      ],\n",
       "       [751.79849362, 742.8       , 735.37      ],\n",
       "       [752.8019239 , 746.24      , 735.56      ],\n",
       "       [753.50125236, 747.        , 736.28      ],\n",
       "       [753.97033366, 745.45      , 735.55      ],\n",
       "       [754.78017178, 745.        , 736.05      ],\n",
       "       [755.08885548, 743.83      , 731.01      ],\n",
       "       [755.03518668, 754.38      , 744.26      ],\n",
       "       [753.88420726, 757.31      , 752.71      ],\n",
       "       [753.60077193, 761.        , 752.69      ],\n",
       "       [754.19628731, 768.05      , 757.3       ],\n",
       "       [754.98385688, 769.9       , 749.33      ],\n",
       "       [757.14396989, 758.13      , 750.01      ],\n",
       "       [759.56688378, 760.45      , 749.55      ],\n",
       "       [761.81424463, 736.12      , 713.61      ],\n",
       "       [763.60303364, 723.93      , 715.59      ],\n",
       "       [764.19579349, 725.77      , 703.03      ],\n",
       "       [763.47345954, 708.98      , 692.36      ],\n",
       "       [760.09822089, 714.17      , 689.55      ],\n",
       "       [754.72278622, 697.62      , 689.        ],\n",
       "       [747.85452593, 700.64      , 691.        ],\n",
       "       [739.57178043, 697.84      , 692.        ],\n",
       "       [730.95013651, 699.75      , 689.01      ],\n",
       "       [723.13945214, 702.32      , 695.72      ],\n",
       "       [716.04700046, 711.86      , 698.11      ],\n",
       "       [712.23664404, 718.71      , 710.        ],\n",
       "       [709.88649543, 723.5       , 715.72      ],\n",
       "       [708.86159763, 724.48      , 712.8       ],\n",
       "       [710.24151051, 719.25      , 709.        ],\n",
       "       [712.37743251, 716.66      , 709.26      ],\n",
       "       [715.73011425, 718.48      , 705.65      ],\n",
       "       [718.66158405, 721.52      , 704.11      ],\n",
       "       [721.35623827, 711.6       , 700.63      ],\n",
       "       [723.60353504, 706.        , 696.8       ],\n",
       "       [724.59498196, 714.58      , 700.52      ],\n",
       "       [724.5210632 , 711.48      , 704.18      ],\n",
       "       [723.183028  , 720.97      , 706.86      ],\n",
       "       [721.46575466, 727.51      , 719.71      ],\n",
       "       [720.16443853, 728.33      , 720.28      ],\n",
       "       [720.04422042, 733.94      , 724.        ],\n",
       "       [720.95293729, 739.73      , 731.26      ],\n",
       "       [722.87152469, 737.21      , 730.66      ],\n",
       "       [725.42417288, 733.02      , 724.17      ],\n",
       "       [729.08403239, 729.49      , 720.56      ],\n",
       "       [732.93158849, 724.91      , 714.61      ],\n",
       "       [735.98619213, 721.98      , 716.55      ],\n",
       "       [738.18238339, 728.57      , 720.58      ],\n",
       "       [739.32721092, 729.54      , 722.34      ],\n",
       "       [739.14367966, 725.89      , 716.43      ],\n",
       "       [738.56883077, 725.44      , 716.51      ],\n",
       "       [737.50090181, 722.47      , 713.12      ],\n",
       "       [735.82508962, 722.98      , 717.31      ],\n",
       "       [734.25437215, 716.65      , 703.26      ],\n",
       "       [732.99749698, 708.82      , 688.45      ],\n",
       "       [731.68205074, 702.48      , 693.41      ],\n",
       "       [730.12696931, 702.77      , 692.01      ],\n",
       "       [727.96118503, 700.86      , 693.08      ],\n",
       "       [724.78677982, 701.95      , 687.        ],\n",
       "       [721.1980515 , 689.4       , 673.45      ],\n",
       "       [717.4902265 , 672.3       , 663.28      ],\n",
       "       [713.12841118, 680.33      , 673.        ],\n",
       "       [708.29847577, 687.43      , 681.41      ],\n",
       "       [703.07590906, 692.32      , 683.65      ],\n",
       "       [698.80771775, 700.65      , 692.13      ],\n",
       "       [695.97701713, 696.94      , 688.88      ],\n",
       "       [694.27602065, 701.68      , 689.09      ],\n",
       "       [693.54228009, 698.2       , 688.22      ],\n",
       "       [693.7026777 , 705.71      , 696.43      ],\n",
       "       [694.87304196, 716.51      , 707.24      ],\n",
       "       [697.94754311, 722.94      , 715.91      ],\n",
       "       [702.29660609, 724.        , 716.85      ],\n",
       "       [706.42772569, 722.21      , 718.03      ],\n",
       "       [710.53382122, 725.74      , 719.05      ],\n",
       "       [714.7884912 , 736.13      , 721.19      ],\n",
       "       [718.77917478, 736.99      , 729.        ],\n",
       "       [723.1334925 , 742.13      , 737.1       ],\n",
       "       [727.68146646, 741.69      , 735.83      ],\n",
       "       [732.22018055, 743.24      , 736.56      ],\n",
       "       [736.31570253, 742.61      , 737.5       ],\n",
       "       [739.65447844, 741.69      , 734.27      ],\n",
       "       [742.34913267, 744.46      , 737.        ],\n",
       "       [744.83987751, 748.65      , 739.3       ],\n",
       "       [747.28659791, 778.55      , 766.77      ],\n",
       "       [749.82450721, 780.43      , 761.09      ],\n",
       "       [752.71499647, 775.84      , 767.85      ],\n",
       "       [755.94297436, 773.21      , 766.82      ],\n",
       "       [759.34362158, 774.07      , 768.79      ],\n",
       "       [763.23062025, 783.04      , 772.34      ],\n",
       "       [767.32684713, 782.63      , 778.09      ],\n",
       "       [771.57103968, 788.94      , 780.57      ],\n",
       "       [775.9046909 , 786.81      , 782.78      ],\n",
       "       [779.92437165, 789.75      , 782.97      ],\n",
       "       [783.35529769, 783.4       , 780.4       ],\n",
       "       [784.77148107, 787.49      , 780.11      ],\n",
       "       [786.63261883, 780.98      , 773.44      ],\n",
       "       [788.15473   , 780.81      , 773.53      ],\n",
       "       [789.50564571, 782.86      , 777.        ],\n",
       "       [790.30968439, 777.1       , 773.13      ],\n",
       "       [790.41564422, 774.54      , 770.05      ],\n",
       "       [789.89254166, 776.44      , 771.78      ],\n",
       "       [788.9473941 , 774.5       , 767.07      ],\n",
       "       [787.78000965, 771.89      , 763.18      ],\n",
       "       [786.36510791, 776.08      , 765.85      ],\n",
       "       [785.1425167 , 774.99      , 766.61      ],\n",
       "       [783.72956947, 774.47      , 766.84      ],\n",
       "       [782.73382905, 769.09      , 765.38      ],\n",
       "       [781.78047896, 771.02      , 764.3       ],\n",
       "       [780.6644884 , 773.92      , 768.41      ],\n",
       "       [780.01008152, 782.        , 771.        ],\n",
       "       [779.69547023, 782.73      , 776.2       ],\n",
       "       [779.54154492, 780.35      , 773.58      ],\n",
       "       [780.00300045, 773.24      , 759.66      ],\n",
       "       [780.81713207, 770.29      , 754.        ],\n",
       "       [781.24789225, 766.22      , 755.8       ],\n",
       "       [781.36426543, 767.68      , 759.11      ],\n",
       "       [781.05792073, 773.8       , 759.96      ],\n",
       "       [780.57294705, 769.75      , 764.66      ],\n",
       "       [779.72731906, 774.        , 764.44      ],\n",
       "       [778.57682025, 773.33      , 768.53      ],\n",
       "       [777.35800988, 777.16      , 768.3       ],\n",
       "       [776.29623281, 789.85      , 778.44      ],\n",
       "       [776.08245477, 788.93      , 784.15      ],\n",
       "       [777.28473195, 782.74      , 773.07      ],\n",
       "       [779.43766776, 785.99      , 774.31      ],\n",
       "       [781.58233697, 781.81      , 774.97      ],\n",
       "       [783.68298175, 785.8       , 774.23      ],\n",
       "       [785.40688759, 780.94      , 774.09      ],\n",
       "       [786.758348  , 776.07      , 769.5       ],\n",
       "       [787.63848423, 778.71      , 772.89      ],\n",
       "       [788.15187834, 782.07      , 775.65      ],\n",
       "       [788.20243915, 780.48      , 775.54      ],\n",
       "       [787.43954121, 779.66      , 770.75      ],\n",
       "       [786.53284293, 789.38      , 775.87      ],\n",
       "       [786.31249647, 792.28      , 780.58      ],\n",
       "       [786.35847541, 788.13      , 782.06      ],\n",
       "       [786.70227612, 781.22      , 773.        ],\n",
       "       [787.08327652, 783.95      , 776.        ],\n",
       "       [787.78994238, 785.85      , 777.5       ],\n",
       "       [788.70686176, 801.61      , 785.57      ],\n",
       "       [789.43505923, 804.6       , 798.03      ],\n",
       "       [790.19481714, 803.97      , 796.03      ],\n",
       "       [791.41756857, 799.5       , 794.        ],\n",
       "       [793.11113151, 815.18      , 804.82      ],\n",
       "       [794.88627103, 816.68      , 805.14      ],\n",
       "       [796.82786392, 806.98      , 796.32      ],\n",
       "       [799.29749369, 803.49      , 791.5       ],\n",
       "       [802.20220919, 815.49      , 793.59      ],\n",
       "       [804.73636969, 796.86      , 784.        ],\n",
       "       [806.77453437, 789.49      , 775.54      ],\n",
       "       [807.43935459, 781.65      , 763.45      ],\n",
       "       [806.78827999, 769.95      , 759.03      ],\n",
       "       [805.18513695, 770.36      , 750.56      ],\n",
       "       [802.77205967, 785.19      , 772.55      ],\n",
       "       [798.62761098, 795.63      , 780.19      ],\n",
       "       [794.01706081, 791.23      , 771.67      ],\n",
       "       [790.4056474 , 791.17      , 752.18      ],\n",
       "       [787.61528649, 760.78      , 750.38      ],\n",
       "       [784.75757525, 757.85      , 727.54      ],\n",
       "       [782.96449273, 764.42      , 746.97      ],\n",
       "       [781.4584021 , 766.36      , 750.51      ],\n",
       "       [779.99806612, 772.7       , 764.23      ],\n",
       "       [778.71526973, 775.        , 760.        ],\n",
       "       [777.70754595, 769.7       , 760.6       ],\n",
       "       [775.26928439, 776.96      , 767.        ],\n",
       "       [772.8555022 , 768.28      , 755.25      ],\n",
       "       [771.685971  , 765.        , 760.52      ],\n",
       "       [771.40195894, 779.53      , 759.8       ],\n",
       "       [772.95575872, 778.5       , 768.24      ],\n",
       "       [775.03032207, 772.99      , 754.83      ],\n",
       "       [776.38594782, 759.85      , 737.03      ],\n",
       "       [777.00302684, 754.        , 743.1       ],\n",
       "       [776.31606624, 763.9       , 752.9       ],\n",
       "       [775.17530792, 768.83      , 757.34      ],\n",
       "       [774.11724761, 771.36      , 755.8       ],\n",
       "       [772.49558483, 778.18      , 767.23      ],\n",
       "       [771.8351222 , 789.43      , 779.02      ],\n",
       "       [771.79462228, 791.25      , 784.35      ],\n",
       "       [772.39616138, 804.38      , 793.34      ],\n",
       "       [773.77613835, 804.        , 794.01      ],\n",
       "       [776.87832298, 803.        , 792.92      ],\n",
       "       [781.73302613, 800.86      , 790.29      ],\n",
       "       [787.00105913, 797.66      , 786.27      ],\n",
       "       [791.33150625, 798.65      , 793.27      ],\n",
       "       [795.00152277, 796.68      , 787.1       ],\n",
       "       [798.26176601, 793.32      , 788.58      ],\n",
       "       [800.29079899, 792.74      , 787.28      ],\n",
       "       [801.14504604, 797.86      , 787.66      ],\n",
       "       [801.37708749, 794.23      , 783.2       ],\n",
       "       [800.70134126, 785.93      , 778.92      ],\n",
       "       [799.83091347, 782.78      , 770.41      ]])"
      ]
     },
     "execution_count": 108,
     "metadata": {},
     "output_type": "execute_result"
    }
   ],
   "source": [
    "rev_df=sc.inverse_transform(df)\n",
    "rev_df"
   ]
  },
  {
   "cell_type": "markdown",
   "metadata": {},
   "source": [
    "## create new dataframe which contain predicted value and actual value"
   ]
  },
  {
   "cell_type": "code",
   "execution_count": 113,
   "metadata": {},
   "outputs": [],
   "source": [
    "DF=df_train[test_pred.shape[0]*-1:]"
   ]
  },
  {
   "cell_type": "code",
   "execution_count": 114,
   "metadata": {},
   "outputs": [
    {
     "data": {
      "text/plain": [
       "Date      242\n",
       "Open      242\n",
       "High      242\n",
       "Low       242\n",
       "Close     242\n",
       "Volume    242\n",
       "dtype: int64"
      ]
     },
     "execution_count": 114,
     "metadata": {},
     "output_type": "execute_result"
    }
   ],
   "source": [
    "DF.count()"
   ]
  },
  {
   "cell_type": "code",
   "execution_count": 115,
   "metadata": {},
   "outputs": [
    {
     "name": "stderr",
     "output_type": "stream",
     "text": [
      "<ipython-input-115-74fe415d4482>:2: SettingWithCopyWarning: \n",
      "A value is trying to be set on a copy of a slice from a DataFrame.\n",
      "Try using .loc[row_indexer,col_indexer] = value instead\n",
      "\n",
      "See the caveats in the documentation: https://pandas.pydata.org/pandas-docs/stable/user_guide/indexing.html#returning-a-view-versus-a-copy\n",
      "  DF['Prediction_value']=rev_df[:,0]\n"
     ]
    }
   ],
   "source": [
    "# create new column in datarame of predicted value \n",
    "DF['Prediction_value']=rev_df[:,0]"
   ]
  },
  {
   "cell_type": "markdown",
   "metadata": {},
   "source": [
    "### Visualize the predicted value and real data value"
   ]
  },
  {
   "cell_type": "code",
   "execution_count": 116,
   "metadata": {},
   "outputs": [
    {
     "data": {
      "text/plain": [
       "<matplotlib.axes._subplots.AxesSubplot at 0x1d8ecdb0e50>"
      ]
     },
     "execution_count": 116,
     "metadata": {},
     "output_type": "execute_result"
    },
    {
     "data": {
      "image/png": "[encoded data removed]",
      "text/plain": [
       "<Figure size 432x288 with 1 Axes>"
      ]
     },
     "metadata": {
      "needs_background": "light"
     },
     "output_type": "display_data"
    }
   ],
   "source": [
    "DF[['Open','Prediction_value']].plot()"
   ]
  },
  {
   "cell_type": "markdown",
   "metadata": {},
   "source": [
    "#### Confidence Interval is calculated for Estimated Variable, not for an independent variable as you have done."
   ]
  },
  {
   "cell_type": "code",
   "execution_count": 120,
   "metadata": {},
   "outputs": [
    {
     "name": "stdout",
     "output_type": "stream",
     "text": [
      "95% Confidence Interval: [748.665283553656, 756.7297033254587]\n"
     ]
    }
   ],
   "source": [
    "import scipy.stats as ss\n",
    "\n",
    "confidence = 0.95\n",
    "nsamples = len(DF.Prediction_value)\n",
    "mean = DF.Prediction_value.mean()\n",
    "\n",
    "# Standard Error = se\n",
    "se = ss.sem(DF.Prediction_value)\n",
    "h = se * ss.t.ppf((1 + confidence)/2, nsamples)\n",
    "print(f\"95% Confidence Interval: [{mean - h}, {mean + h}]\")"
   ]
  }
 ],
 "metadata": {
  "kernelspec": {
   "display_name": "Python 3",
   "language": "python",
   "name": "python3"
  },
  "language_info": {
   "codemirror_mode": {
    "name": "ipython",
    "version": 3
   },
   "file_extension": ".py",
   "mimetype": "text/x-python",
   "name": "python",
   "nbconvert_exporter": "python",
   "pygments_lexer": "ipython3",
   "version": "3.8.3"
  }
 },
 "nbformat": 4,
 "nbformat_minor": 4
}
